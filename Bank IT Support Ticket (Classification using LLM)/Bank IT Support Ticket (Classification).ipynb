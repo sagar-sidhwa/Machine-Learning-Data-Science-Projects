{
 "cells": [
  {
   "cell_type": "markdown",
   "id": "126740a4-62a8-4d8f-bcac-24e918be7d02",
   "metadata": {},
   "source": [
    "# ✅ Project: Bank IT Support Ticket Classification\n",
    "## 📌 Project Title:\n",
    "### Intent Classification of Bank IT Support Tickets using Traditional ML + Embeddings"
   ]
  },
  {
   "cell_type": "markdown",
   "id": "19428183-0005-420d-a635-cd9ec1b4a3a1",
   "metadata": {},
   "source": [
    "### 📖 Description: \n",
    "This project focuses on classifying the intent behind customer IT support queries in the banking domain. The dataset includes domain, subdomain, category, user query (example), and intent labels. The goal is to build a multi-class classification system that can automate ticket intent detection using sentence embeddings and machine learning classifiers."
   ]
  },
  {
   "cell_type": "markdown",
   "id": "98633755-50bb-4f4b-9654-e6054841e4a9",
   "metadata": {},
   "source": [
    "## 🧱 Notebook Structure & Sections"
   ]
  },
  {
   "cell_type": "markdown",
   "id": "77335b93-a8b2-45bc-ba83-8856fe16d408",
   "metadata": {},
   "source": [
    "### ✅ 1. Importing Required Libraries\n",
    "- Start by importing essential libraries (pandas, numpy, seaborn, sklearn, xgboost, lightgbm, matplotlib, etc.)."
   ]
  },
  {
   "cell_type": "code",
   "execution_count": 1,
   "id": "9bd75ae4-7e42-4cfa-97eb-06248dae04a5",
   "metadata": {},
   "outputs": [],
   "source": [
    "import numpy as np\n",
    "import pandas as pd\n",
    "from matplotlib import pyplot as plt\n",
    "import seaborn as sns\n",
    "from sklearn.model_selection import train_test_split, GridSearchCV\n",
    "from sentence_transformers import SentenceTransformer\n",
    "from sklearn.feature_extraction.text import TfidfVectorizer\n",
    "from sklearn.ensemble import RandomForestClassifier\n",
    "from sklearn.linear_model import LogisticRegression, SGDClassifier\n",
    "from sklearn.svm import SVC\n",
    "from sklearn.neighbors import KNeighborsClassifier\n",
    "from sklearn.metrics import accuracy_score, classification_report\n",
    "from sklearn.neural_network import MLPClassifier"
   ]
  },
  {
   "cell_type": "markdown",
   "id": "0bdfb01f-50ab-4868-95d7-26e9fc87a889",
   "metadata": {},
   "source": [
    "### 📊 2. Data Loading & Exploration:\n",
    "\n",
    "- Dataset was loaded using HuggingFace dataset hub.\n",
    "- Inspected and visualized for understanding data balance."
   ]
  },
  {
   "cell_type": "code",
   "execution_count": 2,
   "id": "f099611b-e183-4487-8523-4c07ac801038",
   "metadata": {},
   "outputs": [],
   "source": [
    "#Data Loading and Inspecting the Data\n",
    "splits = {'train': 'data/train-00000-of-00001.parquet', 'test': 'data/test-00000-of-00001.parquet'}\n",
    "df = pd.read_parquet(\"hf://datasets/rbojja/labelled_bank_support_dataset/\" + splits[\"train\"])"
   ]
  },
  {
   "cell_type": "code",
   "execution_count": 3,
   "id": "b1503766-2d64-4d8d-a360-d0a0abb0fd58",
   "metadata": {},
   "outputs": [
    {
     "data": {
      "text/html": [
       "<div>\n",
       "<style scoped>\n",
       "    .dataframe tbody tr th:only-of-type {\n",
       "        vertical-align: middle;\n",
       "    }\n",
       "\n",
       "    .dataframe tbody tr th {\n",
       "        vertical-align: top;\n",
       "    }\n",
       "\n",
       "    .dataframe thead th {\n",
       "        text-align: right;\n",
       "    }\n",
       "</style>\n",
       "<table border=\"1\" class=\"dataframe\">\n",
       "  <thead>\n",
       "    <tr style=\"text-align: right;\">\n",
       "      <th></th>\n",
       "      <th>domain</th>\n",
       "      <th>subdomain</th>\n",
       "      <th>category</th>\n",
       "      <th>example</th>\n",
       "      <th>intent</th>\n",
       "    </tr>\n",
       "  </thead>\n",
       "  <tbody>\n",
       "    <tr>\n",
       "      <th>0</th>\n",
       "      <td>Loan Products and Interest Rates</td>\n",
       "      <td>Interest rates calculation and breakdown</td>\n",
       "      <td>Comparing Fixed vs. Variable Interest Rates</td>\n",
       "      <td>Can you explain the differences between fixed ...</td>\n",
       "      <td>1</td>\n",
       "    </tr>\n",
       "    <tr>\n",
       "      <th>1</th>\n",
       "      <td>Customer Interaction Experience</td>\n",
       "      <td>incorrect_account_charges</td>\n",
       "      <td>Clarification of Charges</td>\n",
       "      <td>Can you clarify why I was charged a fee for my...</td>\n",
       "      <td>1</td>\n",
       "    </tr>\n",
       "    <tr>\n",
       "      <th>2</th>\n",
       "      <td>Deposit Confirmation</td>\n",
       "      <td>Deposit Cancellation Confirmation</td>\n",
       "      <td>Customer Support for Cancellation Inquiries</td>\n",
       "      <td>Could you please verify that my deposit cancel...</td>\n",
       "      <td>2</td>\n",
       "    </tr>\n",
       "    <tr>\n",
       "      <th>3</th>\n",
       "      <td>Service Offerings</td>\n",
       "      <td>Introduction to customer service features</td>\n",
       "      <td>Overview of Customer Service Features</td>\n",
       "      <td>How can I access your customer service feature...</td>\n",
       "      <td>1</td>\n",
       "    </tr>\n",
       "    <tr>\n",
       "      <th>4</th>\n",
       "      <td>Deposit Accounts and Interest Calculation</td>\n",
       "      <td>Impact of Interest Rates on Savings</td>\n",
       "      <td>How Central Bank Rates Influence Personal Savi...</td>\n",
       "      <td>How do changes in the central bank's interest ...</td>\n",
       "      <td>3</td>\n",
       "    </tr>\n",
       "  </tbody>\n",
       "</table>\n",
       "</div>"
      ],
      "text/plain": [
       "                                      domain  \\\n",
       "0           Loan Products and Interest Rates   \n",
       "1            Customer Interaction Experience   \n",
       "2                       Deposit Confirmation   \n",
       "3                          Service Offerings   \n",
       "4  Deposit Accounts and Interest Calculation   \n",
       "\n",
       "                                   subdomain  \\\n",
       "0   Interest rates calculation and breakdown   \n",
       "1                  incorrect_account_charges   \n",
       "2          Deposit Cancellation Confirmation   \n",
       "3  Introduction to customer service features   \n",
       "4        Impact of Interest Rates on Savings   \n",
       "\n",
       "                                            category  \\\n",
       "0        Comparing Fixed vs. Variable Interest Rates   \n",
       "1                           Clarification of Charges   \n",
       "2        Customer Support for Cancellation Inquiries   \n",
       "3              Overview of Customer Service Features   \n",
       "4  How Central Bank Rates Influence Personal Savi...   \n",
       "\n",
       "                                             example  intent  \n",
       "0  Can you explain the differences between fixed ...       1  \n",
       "1  Can you clarify why I was charged a fee for my...       1  \n",
       "2  Could you please verify that my deposit cancel...       2  \n",
       "3  How can I access your customer service feature...       1  \n",
       "4  How do changes in the central bank's interest ...       3  "
      ]
     },
     "execution_count": 3,
     "metadata": {},
     "output_type": "execute_result"
    }
   ],
   "source": [
    "df.head()"
   ]
  },
  {
   "cell_type": "code",
   "execution_count": 4,
   "id": "3a4368b7-67ec-4c30-b448-48f408fa99f5",
   "metadata": {},
   "outputs": [
    {
     "name": "stdout",
     "output_type": "stream",
     "text": [
      "<class 'pandas.core.frame.DataFrame'>\n",
      "RangeIndex: 5500 entries, 0 to 5499\n",
      "Data columns (total 5 columns):\n",
      " #   Column     Non-Null Count  Dtype \n",
      "---  ------     --------------  ----- \n",
      " 0   domain     5500 non-null   object\n",
      " 1   subdomain  5500 non-null   object\n",
      " 2   category   5500 non-null   object\n",
      " 3   example    5500 non-null   object\n",
      " 4   intent     5500 non-null   int64 \n",
      "dtypes: int64(1), object(4)\n",
      "memory usage: 215.0+ KB\n"
     ]
    }
   ],
   "source": [
    "df.info()"
   ]
  },
  {
   "cell_type": "code",
   "execution_count": 5,
   "id": "087c4460-87ff-4e9c-a455-852eb579b6c6",
   "metadata": {},
   "outputs": [
    {
     "data": {
      "text/html": [
       "<div>\n",
       "<style scoped>\n",
       "    .dataframe tbody tr th:only-of-type {\n",
       "        vertical-align: middle;\n",
       "    }\n",
       "\n",
       "    .dataframe tbody tr th {\n",
       "        vertical-align: top;\n",
       "    }\n",
       "\n",
       "    .dataframe thead th {\n",
       "        text-align: right;\n",
       "    }\n",
       "</style>\n",
       "<table border=\"1\" class=\"dataframe\">\n",
       "  <thead>\n",
       "    <tr style=\"text-align: right;\">\n",
       "      <th></th>\n",
       "      <th>intent</th>\n",
       "    </tr>\n",
       "  </thead>\n",
       "  <tbody>\n",
       "    <tr>\n",
       "      <th>count</th>\n",
       "      <td>5500.000000</td>\n",
       "    </tr>\n",
       "    <tr>\n",
       "      <th>mean</th>\n",
       "      <td>2.254545</td>\n",
       "    </tr>\n",
       "    <tr>\n",
       "      <th>std</th>\n",
       "      <td>2.843740</td>\n",
       "    </tr>\n",
       "    <tr>\n",
       "      <th>min</th>\n",
       "      <td>0.000000</td>\n",
       "    </tr>\n",
       "    <tr>\n",
       "      <th>25%</th>\n",
       "      <td>1.000000</td>\n",
       "    </tr>\n",
       "    <tr>\n",
       "      <th>50%</th>\n",
       "      <td>1.000000</td>\n",
       "    </tr>\n",
       "    <tr>\n",
       "      <th>75%</th>\n",
       "      <td>1.000000</td>\n",
       "    </tr>\n",
       "    <tr>\n",
       "      <th>max</th>\n",
       "      <td>10.000000</td>\n",
       "    </tr>\n",
       "  </tbody>\n",
       "</table>\n",
       "</div>"
      ],
      "text/plain": [
       "            intent\n",
       "count  5500.000000\n",
       "mean      2.254545\n",
       "std       2.843740\n",
       "min       0.000000\n",
       "25%       1.000000\n",
       "50%       1.000000\n",
       "75%       1.000000\n",
       "max      10.000000"
      ]
     },
     "execution_count": 5,
     "metadata": {},
     "output_type": "execute_result"
    }
   ],
   "source": [
    "df.describe()"
   ]
  },
  {
   "cell_type": "code",
   "execution_count": 6,
   "id": "c5ab7aaa-0c88-4824-bd04-07e28cc06216",
   "metadata": {},
   "outputs": [],
   "source": [
    "df['full_text'] = (\n",
    "    df['domain'].astype(str) + ' ' +\n",
    "    df['subdomain'].astype(str) + ' ' +\n",
    "    df['category'].astype(str) + ' ' +\n",
    "    df['example'].astype(str)\n",
    ")"
   ]
  },
  {
   "cell_type": "code",
   "execution_count": 7,
   "id": "ef5f1a2b-863e-490b-b682-ba9ba22d0762",
   "metadata": {},
   "outputs": [],
   "source": [
    "df.drop(['domain', 'subdomain', 'category', 'example'], axis = 1, inplace = True)"
   ]
  },
  {
   "cell_type": "code",
   "execution_count": 8,
   "id": "e37ca0a0-d3b3-4613-b216-8f2fc3a47371",
   "metadata": {},
   "outputs": [
    {
     "data": {
      "text/html": [
       "<div>\n",
       "<style scoped>\n",
       "    .dataframe tbody tr th:only-of-type {\n",
       "        vertical-align: middle;\n",
       "    }\n",
       "\n",
       "    .dataframe tbody tr th {\n",
       "        vertical-align: top;\n",
       "    }\n",
       "\n",
       "    .dataframe thead th {\n",
       "        text-align: right;\n",
       "    }\n",
       "</style>\n",
       "<table border=\"1\" class=\"dataframe\">\n",
       "  <thead>\n",
       "    <tr style=\"text-align: right;\">\n",
       "      <th></th>\n",
       "      <th>intent</th>\n",
       "      <th>full_text</th>\n",
       "    </tr>\n",
       "  </thead>\n",
       "  <tbody>\n",
       "    <tr>\n",
       "      <th>0</th>\n",
       "      <td>1</td>\n",
       "      <td>Loan Products and Interest Rates Interest rate...</td>\n",
       "    </tr>\n",
       "    <tr>\n",
       "      <th>1</th>\n",
       "      <td>1</td>\n",
       "      <td>Customer Interaction Experience incorrect_acco...</td>\n",
       "    </tr>\n",
       "    <tr>\n",
       "      <th>2</th>\n",
       "      <td>2</td>\n",
       "      <td>Deposit Confirmation Deposit Cancellation Conf...</td>\n",
       "    </tr>\n",
       "    <tr>\n",
       "      <th>3</th>\n",
       "      <td>1</td>\n",
       "      <td>Service Offerings Introduction to customer ser...</td>\n",
       "    </tr>\n",
       "    <tr>\n",
       "      <th>4</th>\n",
       "      <td>3</td>\n",
       "      <td>Deposit Accounts and Interest Calculation Impa...</td>\n",
       "    </tr>\n",
       "  </tbody>\n",
       "</table>\n",
       "</div>"
      ],
      "text/plain": [
       "   intent                                          full_text\n",
       "0       1  Loan Products and Interest Rates Interest rate...\n",
       "1       1  Customer Interaction Experience incorrect_acco...\n",
       "2       2  Deposit Confirmation Deposit Cancellation Conf...\n",
       "3       1  Service Offerings Introduction to customer ser...\n",
       "4       3  Deposit Accounts and Interest Calculation Impa..."
      ]
     },
     "execution_count": 8,
     "metadata": {},
     "output_type": "execute_result"
    }
   ],
   "source": [
    "df.head()"
   ]
  },
  {
   "cell_type": "code",
   "execution_count": 9,
   "id": "0310383f-5c72-4832-99ad-bf1590cc623f",
   "metadata": {},
   "outputs": [],
   "source": [
    "#Seprating Numerical and Categorical Columns\n",
    "full_text = ['full_text']\n",
    "target = 'intent'"
   ]
  },
  {
   "cell_type": "code",
   "execution_count": 10,
   "id": "a4c03824-c7a1-4eae-a747-b94333312bc9",
   "metadata": {},
   "outputs": [
    {
     "data": {
      "text/plain": [
       "'\\n0 - Apology\\n1 - Clarification\\n2 - Confirmation\\n3 - Explaining\\n4 - Farewell\\n5 - Greeting\\n6 - Negative\\n7 - Neutral\\n8 - Positive\\n9 - Thanking\\n10 - Unsure\\n'"
      ]
     },
     "execution_count": 10,
     "metadata": {},
     "output_type": "execute_result"
    }
   ],
   "source": [
    "#Meaning of Classes Labels Here\n",
    "'''\n",
    "0 - Apology\n",
    "1 - Clarification\n",
    "2 - Confirmation\n",
    "3 - Explaining\n",
    "4 - Farewell\n",
    "5 - Greeting\n",
    "6 - Negative\n",
    "7 - Neutral\n",
    "8 - Positive\n",
    "9 - Thanking\n",
    "10 - Unsure\n",
    "'''"
   ]
  },
  {
   "cell_type": "code",
   "execution_count": 11,
   "id": "20f564f7-6790-484c-8c9b-04e6d004f71b",
   "metadata": {},
   "outputs": [
    {
     "data": {
      "image/png": "[encoded data removed]",
      "text/plain": [
       "<Figure size 800x400 with 1 Axes>"
      ]
     },
     "metadata": {},
     "output_type": "display_data"
    }
   ],
   "source": [
    "#Checking Class Imabalance in Target Variable\n",
    "plt.figure(figsize=(8, 4))\n",
    "sns.countplot(x=target, data=df)\n",
    "plt.title(f'Class Distribution of {target}')\n",
    "plt.xticks(rotation=45)\n",
    "plt.show()"
   ]
  },
  {
   "cell_type": "code",
   "execution_count": 12,
   "id": "f63e2e5f-feaf-4aa4-93dd-69d5e110eccb",
   "metadata": {},
   "outputs": [
    {
     "name": "stdout",
     "output_type": "stream",
     "text": [
      "intent\n",
      "1     78.418182\n",
      "9      6.763636\n",
      "10     4.981818\n",
      "2      3.018182\n",
      "6      2.236364\n",
      "3      1.781818\n",
      "0      1.181818\n",
      "7      0.836364\n",
      "8      0.600000\n",
      "5      0.163636\n",
      "4      0.018182\n",
      "Name: proportion, dtype: float64\n"
     ]
    }
   ],
   "source": [
    "# Check percentage distribution of target classes\n",
    "class_counts = df[target].value_counts(normalize=True) * 100\n",
    "print(class_counts)"
   ]
  },
  {
   "cell_type": "markdown",
   "id": "6655eea5-813b-4569-b461-5d73a50b85ca",
   "metadata": {},
   "source": [
    "### ✅ 3. Train-Test Split"
   ]
  },
  {
   "cell_type": "code",
   "execution_count": 13,
   "id": "ba80dc72-5dee-46c0-a6a1-6174dde84fb2",
   "metadata": {},
   "outputs": [],
   "source": [
    "X = df.drop(target, axis = 1)\n",
    "y = df[target]"
   ]
  },
  {
   "cell_type": "code",
   "execution_count": 14,
   "id": "de1c1235-6cbe-4c6f-ac46-d27df46018db",
   "metadata": {},
   "outputs": [],
   "source": [
    "# Splitting the Data for LLM\n",
    "X_train, X_test, y_train, y_test = train_test_split(X, y, test_size=0.25, random_state=42)"
   ]
  },
  {
   "cell_type": "markdown",
   "id": "6c341177-a8fb-42cb-b6be-8b1300d91f16",
   "metadata": {},
   "source": [
    "### ✅ 4. Feature Engineering\n",
    "- Text Vectorization: Used SentenceTransformer to extract embeddings from the example column (user query) for full_text (For LLM)\n",
    "- Used TF-IDF to transform full_text (For TF-IDF)"
   ]
  },
  {
   "cell_type": "code",
   "execution_count": 15,
   "id": "1fa1e806-84b5-4c6d-b6e3-83ef8b7afb8b",
   "metadata": {},
   "outputs": [
    {
     "data": {
      "application/vnd.jupyter.widget-view+json": {
       "model_id": "28236ab267fe432db3d7cc62b87a5fa0",
       "version_major": 2,
       "version_minor": 0
      },
      "text/plain": [
       "Batches:   0%|          | 0/129 [00:00<?, ?it/s]"
      ]
     },
     "metadata": {},
     "output_type": "display_data"
    },
    {
     "data": {
      "application/vnd.jupyter.widget-view+json": {
       "model_id": "69fade50ad754a52927e22a5464cc7f9",
       "version_major": 2,
       "version_minor": 0
      },
      "text/plain": [
       "Batches:   0%|          | 0/43 [00:00<?, ?it/s]"
      ]
     },
     "metadata": {},
     "output_type": "display_data"
    }
   ],
   "source": [
    "# Load a lightweight, high-performing model\n",
    "embedder = SentenceTransformer('all-MiniLM-L6-v2')\n",
    "X_train_llm = embedder.encode(X_train[full_text[0]].astype(str).tolist(), show_progress_bar=True)\n",
    "X_test_llm = embedder.encode(X_test[full_text[0]].astype(str).tolist(), show_progress_bar=True)"
   ]
  },
  {
   "cell_type": "code",
   "execution_count": 16,
   "id": "c41b2509-e108-41d5-9a41-29f5b65d0c14",
   "metadata": {},
   "outputs": [
    {
     "data": {
      "text/plain": [
       "((4125, 384), (1375, 384))"
      ]
     },
     "execution_count": 16,
     "metadata": {},
     "output_type": "execute_result"
    }
   ],
   "source": [
    "X_train_llm.shape, X_test_llm.shape"
   ]
  },
  {
   "cell_type": "code",
   "execution_count": 17,
   "id": "7b967d3e-9805-44f3-a195-781049f59df2",
   "metadata": {},
   "outputs": [],
   "source": [
    "#Initialize and fit TF-IDF\n",
    "tfidf = TfidfVectorizer(max_features=1000, ngram_range=(1,2), stop_words='english')\n",
    "X_train_tfidf = tfidf.fit_transform(X_train[full_text[0]].astype(str)).toarray()\n",
    "X_test_tfidf = tfidf.transform(X_test[full_text[0]].astype(str)).toarray()"
   ]
  },
  {
   "cell_type": "code",
   "execution_count": 18,
   "id": "ba52c9f0-54de-4d7a-85e0-a9afff002a9a",
   "metadata": {},
   "outputs": [
    {
     "data": {
      "text/plain": [
       "((4125, 1000), (1375, 1000))"
      ]
     },
     "execution_count": 18,
     "metadata": {},
     "output_type": "execute_result"
    }
   ],
   "source": [
    "X_train_tfidf.shape, X_test_tfidf.shape"
   ]
  },
  {
   "cell_type": "markdown",
   "id": "462dfc88-4eb5-49f6-b24f-20263b45edab",
   "metadata": {},
   "source": [
    "### ✅ 5 Model Training & Evaluation:\n",
    "- Trained Logistic Regression, Random Forest, KNN, SVM, SGD, Multi-layer Perceptron classifiers\n",
    "- Evaluated using Accuracy, Precision, Recall, and F1-score."
   ]
  },
  {
   "cell_type": "code",
   "execution_count": 19,
   "id": "781c1a85-2b09-489f-9479-0bbfbd695bc2",
   "metadata": {},
   "outputs": [],
   "source": [
    "models = {\n",
    "    'Random Forest': RandomForestClassifier(class_weight='balanced', random_state=42),\n",
    "    'Logistic Regression': LogisticRegression(max_iter=1000, random_state=42),\n",
    "    'KNN': KNeighborsClassifier(n_neighbors=4),\n",
    "    'SVM': SVC(probability=True, random_state=42)\n",
    "}"
   ]
  },
  {
   "cell_type": "markdown",
   "id": "716d6926-9c3a-49b7-ad3c-9853c4f53fb2",
   "metadata": {},
   "source": [
    "### ✅ 5.2 - LLM Embeddings with SentenceTransformer (BERT)\n",
    "- Used sentence-transformers to convert full_text into dense vectors\n",
    "- Replaced TF-IDF vector with LLM embeddings"
   ]
  },
  {
   "cell_type": "code",
   "execution_count": 20,
   "id": "0f55a8fd-5783-4074-b694-1ca5152a4b52",
   "metadata": {},
   "outputs": [
    {
     "name": "stdout",
     "output_type": "stream",
     "text": [
      "\n",
      "🔍 Random Forest Evaluation:\n",
      "Accuracy: 0.8305454545454546\n",
      "Classification Report:\n",
      "               precision    recall  f1-score   support\n",
      "\n",
      "           0       0.80      0.33      0.47        12\n",
      "           1       0.83      1.00      0.90      1068\n",
      "           2       0.78      0.15      0.25        48\n",
      "           3       0.00      0.00      0.00        23\n",
      "           5       0.00      0.00      0.00         3\n",
      "           6       1.00      0.03      0.05        40\n",
      "           7       0.00      0.00      0.00        20\n",
      "           8       0.00      0.00      0.00         7\n",
      "           9       0.93      0.70      0.80        92\n",
      "          10       0.00      0.00      0.00        62\n",
      "\n",
      "    accuracy                           0.83      1375\n",
      "   macro avg       0.43      0.22      0.25      1375\n",
      "weighted avg       0.77      0.83      0.77      1375\n",
      "\n",
      "\n",
      "🔍 Logistic Regression Evaluation:\n",
      "Accuracy: 0.8501818181818181\n",
      "Classification Report:\n",
      "               precision    recall  f1-score   support\n",
      "\n",
      "           0       0.71      0.42      0.53        12\n",
      "           1       0.85      1.00      0.92      1068\n",
      "           2       0.77      0.35      0.49        48\n",
      "           3       0.00      0.00      0.00        23\n",
      "           5       0.00      0.00      0.00         3\n",
      "           6       1.00      0.05      0.10        40\n",
      "           7       0.00      0.00      0.00        20\n",
      "           8       0.00      0.00      0.00         7\n",
      "           9       0.90      0.87      0.88        92\n",
      "          10       1.00      0.02      0.03        62\n",
      "\n",
      "    accuracy                           0.85      1375\n",
      "   macro avg       0.52      0.27      0.29      1375\n",
      "weighted avg       0.83      0.85      0.80      1375\n",
      "\n"
     ]
    },
    {
     "name": "stderr",
     "output_type": "stream",
     "text": [
      "/opt/anaconda3/envs/spy/lib/python3.13/site-packages/sklearn/metrics/_classification.py:1565: UndefinedMetricWarning: Precision is ill-defined and being set to 0.0 in labels with no predicted samples. Use `zero_division` parameter to control this behavior.\n",
      "  _warn_prf(average, modifier, f\"{metric.capitalize()} is\", len(result))\n",
      "/opt/anaconda3/envs/spy/lib/python3.13/site-packages/sklearn/metrics/_classification.py:1565: UndefinedMetricWarning: Precision is ill-defined and being set to 0.0 in labels with no predicted samples. Use `zero_division` parameter to control this behavior.\n",
      "  _warn_prf(average, modifier, f\"{metric.capitalize()} is\", len(result))\n",
      "/opt/anaconda3/envs/spy/lib/python3.13/site-packages/sklearn/metrics/_classification.py:1565: UndefinedMetricWarning: Precision is ill-defined and being set to 0.0 in labels with no predicted samples. Use `zero_division` parameter to control this behavior.\n",
      "  _warn_prf(average, modifier, f\"{metric.capitalize()} is\", len(result))\n",
      "/opt/anaconda3/envs/spy/lib/python3.13/site-packages/sklearn/metrics/_classification.py:1565: UndefinedMetricWarning: Precision is ill-defined and being set to 0.0 in labels with no predicted samples. Use `zero_division` parameter to control this behavior.\n",
      "  _warn_prf(average, modifier, f\"{metric.capitalize()} is\", len(result))\n",
      "/opt/anaconda3/envs/spy/lib/python3.13/site-packages/sklearn/metrics/_classification.py:1565: UndefinedMetricWarning: Precision is ill-defined and being set to 0.0 in labels with no predicted samples. Use `zero_division` parameter to control this behavior.\n",
      "  _warn_prf(average, modifier, f\"{metric.capitalize()} is\", len(result))\n",
      "/opt/anaconda3/envs/spy/lib/python3.13/site-packages/sklearn/metrics/_classification.py:1565: UndefinedMetricWarning: Precision is ill-defined and being set to 0.0 in labels with no predicted samples. Use `zero_division` parameter to control this behavior.\n",
      "  _warn_prf(average, modifier, f\"{metric.capitalize()} is\", len(result))\n",
      "huggingface/tokenizers: The current process just got forked, after parallelism has already been used. Disabling parallelism to avoid deadlocks...\n",
      "To disable this warning, you can either:\n",
      "\t- Avoid using `tokenizers` before the fork if possible\n",
      "\t- Explicitly set the environment variable TOKENIZERS_PARALLELISM=(true | false)\n"
     ]
    },
    {
     "name": "stdout",
     "output_type": "stream",
     "text": [
      "\n",
      "🔍 KNN Evaluation:\n",
      "Accuracy: 0.832\n",
      "Classification Report:\n",
      "               precision    recall  f1-score   support\n",
      "\n",
      "           0       0.40      0.83      0.54        12\n",
      "           1       0.87      0.95      0.91      1068\n",
      "           2       0.52      0.33      0.41        48\n",
      "           3       0.29      0.09      0.13        23\n",
      "           5       0.00      0.00      0.00         3\n",
      "           6       0.40      0.15      0.22        40\n",
      "           7       1.00      0.10      0.18        20\n",
      "           8       0.00      0.00      0.00         7\n",
      "           9       0.87      0.89      0.88        92\n",
      "          10       0.35      0.13      0.19        62\n",
      "\n",
      "    accuracy                           0.83      1375\n",
      "   macro avg       0.47      0.35      0.35      1375\n",
      "weighted avg       0.80      0.83      0.80      1375\n",
      "\n",
      "\n",
      "📌 Nearest Neighbors for First Test Sample:\n",
      "Indices: [3365 4076  765 3890]\n",
      "Distances: [0.42282924 0.42479843 0.49115926 0.53148186]\n",
      "Neighbor Labels: 302     0\n",
      "2061    0\n",
      "4162    0\n",
      "3643    0\n",
      "Name: intent, dtype: int64\n"
     ]
    },
    {
     "name": "stderr",
     "output_type": "stream",
     "text": [
      "/opt/anaconda3/envs/spy/lib/python3.13/site-packages/sklearn/metrics/_classification.py:1565: UndefinedMetricWarning: Precision is ill-defined and being set to 0.0 in labels with no predicted samples. Use `zero_division` parameter to control this behavior.\n",
      "  _warn_prf(average, modifier, f\"{metric.capitalize()} is\", len(result))\n",
      "/opt/anaconda3/envs/spy/lib/python3.13/site-packages/sklearn/metrics/_classification.py:1565: UndefinedMetricWarning: Precision is ill-defined and being set to 0.0 in labels with no predicted samples. Use `zero_division` parameter to control this behavior.\n",
      "  _warn_prf(average, modifier, f\"{metric.capitalize()} is\", len(result))\n",
      "/opt/anaconda3/envs/spy/lib/python3.13/site-packages/sklearn/metrics/_classification.py:1565: UndefinedMetricWarning: Precision is ill-defined and being set to 0.0 in labels with no predicted samples. Use `zero_division` parameter to control this behavior.\n",
      "  _warn_prf(average, modifier, f\"{metric.capitalize()} is\", len(result))\n"
     ]
    },
    {
     "name": "stdout",
     "output_type": "stream",
     "text": [
      "\n",
      "🔍 SVM Evaluation:\n",
      "Accuracy: 0.8472727272727273\n",
      "Classification Report:\n",
      "               precision    recall  f1-score   support\n",
      "\n",
      "           0       0.54      0.58      0.56        12\n",
      "           1       0.85      0.99      0.91      1068\n",
      "           2       0.74      0.29      0.42        48\n",
      "           3       0.00      0.00      0.00        23\n",
      "           5       0.00      0.00      0.00         3\n",
      "           6       1.00      0.03      0.05        40\n",
      "           7       0.00      0.00      0.00        20\n",
      "           8       0.00      0.00      0.00         7\n",
      "           9       0.89      0.93      0.91        92\n",
      "          10       0.00      0.00      0.00        62\n",
      "\n",
      "    accuracy                           0.85      1375\n",
      "   macro avg       0.40      0.28      0.29      1375\n",
      "weighted avg       0.78      0.85      0.79      1375\n",
      "\n"
     ]
    },
    {
     "name": "stderr",
     "output_type": "stream",
     "text": [
      "/opt/anaconda3/envs/spy/lib/python3.13/site-packages/sklearn/metrics/_classification.py:1565: UndefinedMetricWarning: Precision is ill-defined and being set to 0.0 in labels with no predicted samples. Use `zero_division` parameter to control this behavior.\n",
      "  _warn_prf(average, modifier, f\"{metric.capitalize()} is\", len(result))\n",
      "/opt/anaconda3/envs/spy/lib/python3.13/site-packages/sklearn/metrics/_classification.py:1565: UndefinedMetricWarning: Precision is ill-defined and being set to 0.0 in labels with no predicted samples. Use `zero_division` parameter to control this behavior.\n",
      "  _warn_prf(average, modifier, f\"{metric.capitalize()} is\", len(result))\n",
      "/opt/anaconda3/envs/spy/lib/python3.13/site-packages/sklearn/metrics/_classification.py:1565: UndefinedMetricWarning: Precision is ill-defined and being set to 0.0 in labels with no predicted samples. Use `zero_division` parameter to control this behavior.\n",
      "  _warn_prf(average, modifier, f\"{metric.capitalize()} is\", len(result))\n"
     ]
    }
   ],
   "source": [
    "for name, model in models.items():\n",
    "    model.fit(X_train_llm, y_train)\n",
    "    y_pred_llm = model.predict(X_test_llm)\n",
    "    \n",
    "    print(f\"\\n🔍 {name} Evaluation:\")\n",
    "    print(\"Accuracy:\", accuracy_score(y_test, y_pred_llm))\n",
    "    print(\"Classification Report:\\n\", classification_report(y_test, y_pred_llm))\n",
    "\n",
    "    # --- Get Nearest Neighbors for First Test Sample ---\n",
    "    if name == 'KNN':\n",
    "        distances, indices = model.kneighbors(X_test_llm[:1])  # first test instance\n",
    "        print(f\"\\n📌 Nearest Neighbors for First Test Sample:\")\n",
    "        print(\"Indices:\", indices[0])\n",
    "        print(\"Distances:\", distances[0])\n",
    "        print(\"Neighbor Labels:\", y_train.iloc[indices[0]])"
   ]
  },
  {
   "cell_type": "markdown",
   "id": "d8267898-cc57-4314-9837-1612eb393dfa",
   "metadata": {},
   "source": [
    "### ✅ 5.1 - Modeling: TF-IDF Based Pipeline\n",
    "- Encoded text features into one combined matrix"
   ]
  },
  {
   "cell_type": "code",
   "execution_count": 21,
   "id": "27283b52-4dd9-4a33-8039-6fcaf83b79cd",
   "metadata": {},
   "outputs": [
    {
     "name": "stdout",
     "output_type": "stream",
     "text": [
      "\n",
      "🔍 Random Forest Evaluation:\n",
      "Accuracy: 0.8632727272727273\n",
      "Classification Report:\n",
      "               precision    recall  f1-score   support\n",
      "\n",
      "           0       0.92      0.92      0.92        12\n",
      "           1       0.87      0.99      0.92      1068\n",
      "           2       0.88      0.58      0.70        48\n",
      "           3       0.00      0.00      0.00        23\n",
      "           5       0.00      0.00      0.00         3\n",
      "           6       0.50      0.05      0.09        40\n",
      "           7       0.00      0.00      0.00        20\n",
      "           8       0.00      0.00      0.00         7\n",
      "           9       0.87      0.96      0.91        92\n",
      "          10       0.45      0.08      0.14        62\n",
      "\n",
      "    accuracy                           0.86      1375\n",
      "   macro avg       0.45      0.36      0.37      1375\n",
      "weighted avg       0.81      0.86      0.82      1375\n",
      "\n"
     ]
    },
    {
     "name": "stderr",
     "output_type": "stream",
     "text": [
      "/opt/anaconda3/envs/spy/lib/python3.13/site-packages/sklearn/metrics/_classification.py:1565: UndefinedMetricWarning: Precision is ill-defined and being set to 0.0 in labels with no predicted samples. Use `zero_division` parameter to control this behavior.\n",
      "  _warn_prf(average, modifier, f\"{metric.capitalize()} is\", len(result))\n",
      "/opt/anaconda3/envs/spy/lib/python3.13/site-packages/sklearn/metrics/_classification.py:1565: UndefinedMetricWarning: Precision is ill-defined and being set to 0.0 in labels with no predicted samples. Use `zero_division` parameter to control this behavior.\n",
      "  _warn_prf(average, modifier, f\"{metric.capitalize()} is\", len(result))\n",
      "/opt/anaconda3/envs/spy/lib/python3.13/site-packages/sklearn/metrics/_classification.py:1565: UndefinedMetricWarning: Precision is ill-defined and being set to 0.0 in labels with no predicted samples. Use `zero_division` parameter to control this behavior.\n",
      "  _warn_prf(average, modifier, f\"{metric.capitalize()} is\", len(result))\n"
     ]
    },
    {
     "name": "stdout",
     "output_type": "stream",
     "text": [
      "\n",
      "🔍 Logistic Regression Evaluation:\n",
      "Accuracy: 0.8552727272727273\n",
      "Classification Report:\n",
      "               precision    recall  f1-score   support\n",
      "\n",
      "           0       1.00      0.58      0.74        12\n",
      "           1       0.85      0.99      0.92      1068\n",
      "           2       0.89      0.35      0.51        48\n",
      "           3       0.00      0.00      0.00        23\n",
      "           5       0.00      0.00      0.00         3\n",
      "           6       1.00      0.05      0.10        40\n",
      "           7       0.00      0.00      0.00        20\n",
      "           8       0.00      0.00      0.00         7\n",
      "           9       0.87      0.93      0.90        92\n",
      "          10       0.64      0.11      0.19        62\n",
      "\n",
      "    accuracy                           0.86      1375\n",
      "   macro avg       0.53      0.30      0.33      1375\n",
      "weighted avg       0.82      0.86      0.81      1375\n",
      "\n",
      "\n",
      "🔍 KNN Evaluation:\n",
      "Accuracy: 0.8414545454545455\n"
     ]
    },
    {
     "name": "stderr",
     "output_type": "stream",
     "text": [
      "/opt/anaconda3/envs/spy/lib/python3.13/site-packages/sklearn/metrics/_classification.py:1565: UndefinedMetricWarning: Precision is ill-defined and being set to 0.0 in labels with no predicted samples. Use `zero_division` parameter to control this behavior.\n",
      "  _warn_prf(average, modifier, f\"{metric.capitalize()} is\", len(result))\n",
      "/opt/anaconda3/envs/spy/lib/python3.13/site-packages/sklearn/metrics/_classification.py:1565: UndefinedMetricWarning: Precision is ill-defined and being set to 0.0 in labels with no predicted samples. Use `zero_division` parameter to control this behavior.\n",
      "  _warn_prf(average, modifier, f\"{metric.capitalize()} is\", len(result))\n",
      "/opt/anaconda3/envs/spy/lib/python3.13/site-packages/sklearn/metrics/_classification.py:1565: UndefinedMetricWarning: Precision is ill-defined and being set to 0.0 in labels with no predicted samples. Use `zero_division` parameter to control this behavior.\n",
      "  _warn_prf(average, modifier, f\"{metric.capitalize()} is\", len(result))\n",
      "/opt/anaconda3/envs/spy/lib/python3.13/site-packages/sklearn/metrics/_classification.py:1565: UndefinedMetricWarning: Precision is ill-defined and being set to 0.0 in labels with no predicted samples. Use `zero_division` parameter to control this behavior.\n",
      "  _warn_prf(average, modifier, f\"{metric.capitalize()} is\", len(result))\n",
      "/opt/anaconda3/envs/spy/lib/python3.13/site-packages/sklearn/metrics/_classification.py:1565: UndefinedMetricWarning: Precision is ill-defined and being set to 0.0 in labels with no predicted samples. Use `zero_division` parameter to control this behavior.\n",
      "  _warn_prf(average, modifier, f\"{metric.capitalize()} is\", len(result))\n",
      "/opt/anaconda3/envs/spy/lib/python3.13/site-packages/sklearn/metrics/_classification.py:1565: UndefinedMetricWarning: Precision is ill-defined and being set to 0.0 in labels with no predicted samples. Use `zero_division` parameter to control this behavior.\n",
      "  _warn_prf(average, modifier, f\"{metric.capitalize()} is\", len(result))\n"
     ]
    },
    {
     "name": "stdout",
     "output_type": "stream",
     "text": [
      "Classification Report:\n",
      "               precision    recall  f1-score   support\n",
      "\n",
      "           0       0.48      0.92      0.63        12\n",
      "           1       0.87      0.96      0.91      1068\n",
      "           2       0.45      0.27      0.34        48\n",
      "           3       0.40      0.09      0.14        23\n",
      "           5       0.00      0.00      0.00         3\n",
      "           6       0.53      0.20      0.29        40\n",
      "           7       1.00      0.15      0.26        20\n",
      "           8       0.00      0.00      0.00         7\n",
      "           9       0.90      0.92      0.91        92\n",
      "          10       0.39      0.11      0.17        62\n",
      "\n",
      "    accuracy                           0.84      1375\n",
      "   macro avg       0.50      0.36      0.37      1375\n",
      "weighted avg       0.81      0.84      0.81      1375\n",
      "\n",
      "\n",
      "📌 Nearest Neighbors for First Test Sample:\n",
      "Indices: [3890 3365  765 3210]\n",
      "Distances: [0.81331593 0.8741024  0.93895769 0.96600866]\n",
      "Neighbor Labels: 3643    0\n",
      "302     0\n",
      "4162    0\n",
      "5296    0\n",
      "Name: intent, dtype: int64\n",
      "\n",
      "🔍 SVM Evaluation:\n",
      "Accuracy: 0.8450909090909091\n",
      "Classification Report:\n",
      "               precision    recall  f1-score   support\n",
      "\n",
      "           0       0.82      0.75      0.78        12\n",
      "           1       0.85      0.99      0.91      1068\n",
      "           2       0.73      0.17      0.27        48\n",
      "           3       0.00      0.00      0.00        23\n",
      "           5       0.00      0.00      0.00         3\n",
      "           6       1.00      0.03      0.05        40\n",
      "           7       0.00      0.00      0.00        20\n",
      "           8       0.00      0.00      0.00         7\n",
      "           9       0.85      0.93      0.89        92\n",
      "          10       0.50      0.02      0.03        62\n",
      "\n",
      "    accuracy                           0.85      1375\n",
      "   macro avg       0.47      0.29      0.29      1375\n",
      "weighted avg       0.80      0.85      0.79      1375\n",
      "\n"
     ]
    },
    {
     "name": "stderr",
     "output_type": "stream",
     "text": [
      "/opt/anaconda3/envs/spy/lib/python3.13/site-packages/sklearn/metrics/_classification.py:1565: UndefinedMetricWarning: Precision is ill-defined and being set to 0.0 in labels with no predicted samples. Use `zero_division` parameter to control this behavior.\n",
      "  _warn_prf(average, modifier, f\"{metric.capitalize()} is\", len(result))\n",
      "/opt/anaconda3/envs/spy/lib/python3.13/site-packages/sklearn/metrics/_classification.py:1565: UndefinedMetricWarning: Precision is ill-defined and being set to 0.0 in labels with no predicted samples. Use `zero_division` parameter to control this behavior.\n",
      "  _warn_prf(average, modifier, f\"{metric.capitalize()} is\", len(result))\n",
      "/opt/anaconda3/envs/spy/lib/python3.13/site-packages/sklearn/metrics/_classification.py:1565: UndefinedMetricWarning: Precision is ill-defined and being set to 0.0 in labels with no predicted samples. Use `zero_division` parameter to control this behavior.\n",
      "  _warn_prf(average, modifier, f\"{metric.capitalize()} is\", len(result))\n"
     ]
    }
   ],
   "source": [
    "for name, model in models.items():\n",
    "    model.fit(X_train_tfidf, y_train)\n",
    "    y_pred_tfidf = model.predict(X_test_tfidf)\n",
    "    \n",
    "    print(f\"\\n🔍 {name} Evaluation:\")\n",
    "    print(\"Accuracy:\", accuracy_score(y_test, y_pred_tfidf))\n",
    "    print(\"Classification Report:\\n\", classification_report(y_test, y_pred_tfidf))\n",
    "\n",
    "    # --- Get Nearest Neighbors for First Test Sample ---\n",
    "    if name == 'KNN':\n",
    "        distances, indices = model.kneighbors(X_test_tfidf[:1])  # first test instance\n",
    "        print(f\"\\n📌 Nearest Neighbors for First Test Sample:\")\n",
    "        print(\"Indices:\", indices[0])\n",
    "        print(\"Distances:\", distances[0])\n",
    "        print(\"Neighbor Labels:\", y_train.iloc[indices[0]])"
   ]
  },
  {
   "cell_type": "markdown",
   "id": "0d9b089d-d48f-4f70-b6e5-680ef0c26507",
   "metadata": {},
   "source": [
    "### ✅ 7. Hyperparameter Tuning (Validation Step)\n",
    "- Hyperparameter tuning with GridSearchCV for Logistic Regression, SGD Classifier, MLP Classifier, Random Forest\n",
    "- Tuned parameters like max_depth, n_estimators, learning_rate etc.\n",
    "- Applied Gradient Descent \n",
    "- Cross-validation\n",
    "- Re-trained models using the same pipeline\n",
    "- Compared accuracy & performance with TF-IDF version"
   ]
  },
  {
   "cell_type": "code",
   "execution_count": 22,
   "id": "83d7f7d4-a28f-4a61-81fe-df9fe59f47e1",
   "metadata": {},
   "outputs": [],
   "source": [
    "#Define Models with Hyperparameter Grids\n",
    "models = {\n",
    "    'Logistic Regression': LogisticRegression(solver='saga', max_iter=1000, random_state=42),\n",
    "    'SGD Classifier': SGDClassifier(random_state=42),\n",
    "    'MLP Classifier': MLPClassifier(solver='sgd', max_iter=1000, random_state=42),\n",
    "    'Random Forest': RandomForestClassifier(class_weight='balanced', random_state=42)\n",
    "}"
   ]
  },
  {
   "cell_type": "code",
   "execution_count": 23,
   "id": "a08a02bb-3bba-4517-8971-41f8bfb0ef24",
   "metadata": {},
   "outputs": [],
   "source": [
    "param_grids = {\n",
    "    'Logistic Regression': {\n",
    "        'C': [0.01, 0.1, 1.0],\n",
    "        'penalty': ['l1', 'l2'],\n",
    "        'solver': ['saga'],\n",
    "        'max_iter': [1000]\n",
    "    },\n",
    "    'SGD Classifier': {\n",
    "        'loss': ['log_loss', 'hinge'],  # log_loss = logistic, hinge = SVM\n",
    "        'penalty': ['l2', 'l1', 'elasticnet'],\n",
    "        'alpha': [0.0001, 0.001],\n",
    "        'learning_rate': ['optimal', 'adaptive'],\n",
    "        'eta0': [0.01, 0.1]\n",
    "    },\n",
    "    'MLP Classifier': {\n",
    "        'hidden_layer_sizes': [(50,), (100,)],\n",
    "        'learning_rate_init': [0.001, 0.01],\n",
    "        'alpha': [0.0001, 0.001],\n",
    "        'solver': ['sgd']\n",
    "    },\n",
    "    'Random Forest': {\n",
    "        'n_estimators': [100, 200],\n",
    "        'max_depth': [None, 10, 20],\n",
    "        'min_samples_split': [2, 5],\n",
    "        'min_samples_leaf': [1, 2]\n",
    "    }\n",
    "}"
   ]
  },
  {
   "cell_type": "code",
   "execution_count": 24,
   "id": "d61f9fff-1a36-4320-b0c9-1b21831aabd6",
   "metadata": {},
   "outputs": [],
   "source": [
    "def train_and_evaluate(name, model, param_grid, X_train, y_train, X_test, y_test):\n",
    "    print(f\"\\n🔧 Tuning & Training: {name}\")\n",
    "    \n",
    "    grid = GridSearchCV(model, param_grid, cv=5, scoring='accuracy', n_jobs=-1, verbose=1)\n",
    "    grid.fit(X_train, y_train)\n",
    "    \n",
    "    best_model = grid.best_estimator_\n",
    "    y_pred = best_model.predict(X_test)\n",
    "\n",
    "    print(f\"\\n✅ Best Parameters for {name}:\\n{grid.best_params_}\")\n",
    "    print(f\"\\n📊 Evaluation for {name}:\")\n",
    "    print(\"Accuracy:\", accuracy_score(y_test, y_pred))\n",
    "    print(\"Classification Report:\\n\", classification_report(y_test, y_pred))"
   ]
  },
  {
   "cell_type": "code",
   "execution_count": 26,
   "id": "dc405f48-cf72-4d65-a19a-7e29aff77e65",
   "metadata": {},
   "outputs": [
    {
     "name": "stdout",
     "output_type": "stream",
     "text": [
      "\n",
      "🔧 Tuning & Training: Logistic Regression\n",
      "Fitting 5 folds for each of 6 candidates, totalling 30 fits\n"
     ]
    },
    {
     "name": "stderr",
     "output_type": "stream",
     "text": [
      "huggingface/tokenizers: The current process just got forked, after parallelism has already been used. Disabling parallelism to avoid deadlocks...\n",
      "To disable this warning, you can either:\n",
      "\t- Avoid using `tokenizers` before the fork if possible\n",
      "\t- Explicitly set the environment variable TOKENIZERS_PARALLELISM=(true | false)\n",
      "/opt/anaconda3/envs/spy/lib/python3.13/site-packages/sklearn/model_selection/_split.py:805: UserWarning: The least populated class in y has only 1 members, which is less than n_splits=5.\n",
      "  warnings.warn(\n",
      "huggingface/tokenizers: The current process just got forked, after parallelism has already been used. Disabling parallelism to avoid deadlocks...\n",
      "To disable this warning, you can either:\n",
      "\t- Avoid using `tokenizers` before the fork if possible\n",
      "\t- Explicitly set the environment variable TOKENIZERS_PARALLELISM=(true | false)\n",
      "huggingface/tokenizers: The current process just got forked, after parallelism has already been used. Disabling parallelism to avoid deadlocks...\n",
      "To disable this warning, you can either:\n",
      "\t- Avoid using `tokenizers` before the fork if possible\n",
      "\t- Explicitly set the environment variable TOKENIZERS_PARALLELISM=(true | false)\n",
      "huggingface/tokenizers: The current process just got forked, after parallelism has already been used. Disabling parallelism to avoid deadlocks...\n",
      "To disable this warning, you can either:\n",
      "\t- Avoid using `tokenizers` before the fork if possible\n",
      "\t- Explicitly set the environment variable TOKENIZERS_PARALLELISM=(true | false)\n",
      "huggingface/tokenizers: The current process just got forked, after parallelism has already been used. Disabling parallelism to avoid deadlocks...\n",
      "To disable this warning, you can either:\n",
      "\t- Avoid using `tokenizers` before the fork if possible\n",
      "\t- Explicitly set the environment variable TOKENIZERS_PARALLELISM=(true | false)\n",
      "huggingface/tokenizers: The current process just got forked, after parallelism has already been used. Disabling parallelism to avoid deadlocks...\n",
      "To disable this warning, you can either:\n",
      "\t- Avoid using `tokenizers` before the fork if possible\n",
      "\t- Explicitly set the environment variable TOKENIZERS_PARALLELISM=(true | false)\n",
      "huggingface/tokenizers: The current process just got forked, after parallelism has already been used. Disabling parallelism to avoid deadlocks...\n",
      "To disable this warning, you can either:\n",
      "\t- Avoid using `tokenizers` before the fork if possible\n",
      "\t- Explicitly set the environment variable TOKENIZERS_PARALLELISM=(true | false)\n",
      "huggingface/tokenizers: The current process just got forked, after parallelism has already been used. Disabling parallelism to avoid deadlocks...\n",
      "To disable this warning, you can either:\n",
      "\t- Avoid using `tokenizers` before the fork if possible\n",
      "\t- Explicitly set the environment variable TOKENIZERS_PARALLELISM=(true | false)\n",
      "huggingface/tokenizers: The current process just got forked, after parallelism has already been used. Disabling parallelism to avoid deadlocks...\n",
      "To disable this warning, you can either:\n",
      "\t- Avoid using `tokenizers` before the fork if possible\n",
      "\t- Explicitly set the environment variable TOKENIZERS_PARALLELISM=(true | false)\n"
     ]
    },
    {
     "name": "stdout",
     "output_type": "stream",
     "text": [
      "\n",
      "✅ Best Parameters for Logistic Regression:\n",
      "{'C': 1.0, 'max_iter': 1000, 'penalty': 'l2', 'solver': 'saga'}\n",
      "\n",
      "📊 Evaluation for Logistic Regression:\n",
      "Accuracy: 0.8501818181818181\n",
      "Classification Report:\n",
      "               precision    recall  f1-score   support\n",
      "\n",
      "           0       0.71      0.42      0.53        12\n",
      "           1       0.85      1.00      0.92      1068\n",
      "           2       0.77      0.35      0.49        48\n",
      "           3       0.00      0.00      0.00        23\n",
      "           5       0.00      0.00      0.00         3\n",
      "           6       1.00      0.05      0.10        40\n",
      "           7       0.00      0.00      0.00        20\n",
      "           8       0.00      0.00      0.00         7\n",
      "           9       0.90      0.87      0.88        92\n",
      "          10       1.00      0.02      0.03        62\n",
      "\n",
      "    accuracy                           0.85      1375\n",
      "   macro avg       0.52      0.27      0.29      1375\n",
      "weighted avg       0.83      0.85      0.80      1375\n",
      "\n",
      "\n",
      "🔧 Tuning & Training: SGD Classifier\n",
      "Fitting 5 folds for each of 48 candidates, totalling 240 fits\n"
     ]
    },
    {
     "name": "stderr",
     "output_type": "stream",
     "text": [
      "/opt/anaconda3/envs/spy/lib/python3.13/site-packages/sklearn/metrics/_classification.py:1565: UndefinedMetricWarning: Precision is ill-defined and being set to 0.0 in labels with no predicted samples. Use `zero_division` parameter to control this behavior.\n",
      "  _warn_prf(average, modifier, f\"{metric.capitalize()} is\", len(result))\n",
      "/opt/anaconda3/envs/spy/lib/python3.13/site-packages/sklearn/metrics/_classification.py:1565: UndefinedMetricWarning: Precision is ill-defined and being set to 0.0 in labels with no predicted samples. Use `zero_division` parameter to control this behavior.\n",
      "  _warn_prf(average, modifier, f\"{metric.capitalize()} is\", len(result))\n",
      "/opt/anaconda3/envs/spy/lib/python3.13/site-packages/sklearn/metrics/_classification.py:1565: UndefinedMetricWarning: Precision is ill-defined and being set to 0.0 in labels with no predicted samples. Use `zero_division` parameter to control this behavior.\n",
      "  _warn_prf(average, modifier, f\"{metric.capitalize()} is\", len(result))\n",
      "/opt/anaconda3/envs/spy/lib/python3.13/site-packages/sklearn/model_selection/_split.py:805: UserWarning: The least populated class in y has only 1 members, which is less than n_splits=5.\n",
      "  warnings.warn(\n"
     ]
    },
    {
     "name": "stdout",
     "output_type": "stream",
     "text": [
      "\n",
      "✅ Best Parameters for SGD Classifier:\n",
      "{'alpha': 0.0001, 'eta0': 0.01, 'learning_rate': 'optimal', 'loss': 'hinge', 'penalty': 'elasticnet'}\n",
      "\n",
      "📊 Evaluation for SGD Classifier:\n",
      "Accuracy: 0.8392727272727273\n",
      "Classification Report:\n",
      "               precision    recall  f1-score   support\n",
      "\n",
      "           0       0.75      0.50      0.60        12\n",
      "           1       0.84      1.00      0.91      1068\n",
      "           2       0.62      0.10      0.18        48\n",
      "           3       0.00      0.00      0.00        23\n",
      "           5       0.00      0.00      0.00         3\n",
      "           6       0.00      0.00      0.00        40\n",
      "           7       0.00      0.00      0.00        20\n",
      "           8       0.00      0.00      0.00         7\n",
      "           9       0.92      0.84      0.88        92\n",
      "          10       0.00      0.00      0.00        62\n",
      "\n",
      "    accuracy                           0.84      1375\n",
      "   macro avg       0.31      0.24      0.26      1375\n",
      "weighted avg       0.74      0.84      0.78      1375\n",
      "\n",
      "\n",
      "🔧 Tuning & Training: MLP Classifier\n",
      "Fitting 5 folds for each of 8 candidates, totalling 40 fits\n"
     ]
    },
    {
     "name": "stderr",
     "output_type": "stream",
     "text": [
      "/opt/anaconda3/envs/spy/lib/python3.13/site-packages/sklearn/metrics/_classification.py:1565: UndefinedMetricWarning: Precision is ill-defined and being set to 0.0 in labels with no predicted samples. Use `zero_division` parameter to control this behavior.\n",
      "  _warn_prf(average, modifier, f\"{metric.capitalize()} is\", len(result))\n",
      "/opt/anaconda3/envs/spy/lib/python3.13/site-packages/sklearn/metrics/_classification.py:1565: UndefinedMetricWarning: Precision is ill-defined and being set to 0.0 in labels with no predicted samples. Use `zero_division` parameter to control this behavior.\n",
      "  _warn_prf(average, modifier, f\"{metric.capitalize()} is\", len(result))\n",
      "/opt/anaconda3/envs/spy/lib/python3.13/site-packages/sklearn/metrics/_classification.py:1565: UndefinedMetricWarning: Precision is ill-defined and being set to 0.0 in labels with no predicted samples. Use `zero_division` parameter to control this behavior.\n",
      "  _warn_prf(average, modifier, f\"{metric.capitalize()} is\", len(result))\n",
      "/opt/anaconda3/envs/spy/lib/python3.13/site-packages/sklearn/model_selection/_split.py:805: UserWarning: The least populated class in y has only 1 members, which is less than n_splits=5.\n",
      "  warnings.warn(\n",
      "/opt/anaconda3/envs/spy/lib/python3.13/site-packages/sklearn/neural_network/_multilayer_perceptron.py:691: ConvergenceWarning: Stochastic Optimizer: Maximum iterations (1000) reached and the optimization hasn't converged yet.\n",
      "  warnings.warn(\n",
      "/opt/anaconda3/envs/spy/lib/python3.13/site-packages/sklearn/neural_network/_multilayer_perceptron.py:691: ConvergenceWarning: Stochastic Optimizer: Maximum iterations (1000) reached and the optimization hasn't converged yet.\n",
      "  warnings.warn(\n",
      "/opt/anaconda3/envs/spy/lib/python3.13/site-packages/sklearn/neural_network/_multilayer_perceptron.py:691: ConvergenceWarning: Stochastic Optimizer: Maximum iterations (1000) reached and the optimization hasn't converged yet.\n",
      "  warnings.warn(\n",
      "/opt/anaconda3/envs/spy/lib/python3.13/site-packages/sklearn/neural_network/_multilayer_perceptron.py:691: ConvergenceWarning: Stochastic Optimizer: Maximum iterations (1000) reached and the optimization hasn't converged yet.\n",
      "  warnings.warn(\n",
      "/opt/anaconda3/envs/spy/lib/python3.13/site-packages/sklearn/neural_network/_multilayer_perceptron.py:691: ConvergenceWarning: Stochastic Optimizer: Maximum iterations (1000) reached and the optimization hasn't converged yet.\n",
      "  warnings.warn(\n",
      "/opt/anaconda3/envs/spy/lib/python3.13/site-packages/sklearn/neural_network/_multilayer_perceptron.py:691: ConvergenceWarning: Stochastic Optimizer: Maximum iterations (1000) reached and the optimization hasn't converged yet.\n",
      "  warnings.warn(\n",
      "/opt/anaconda3/envs/spy/lib/python3.13/site-packages/sklearn/neural_network/_multilayer_perceptron.py:691: ConvergenceWarning: Stochastic Optimizer: Maximum iterations (1000) reached and the optimization hasn't converged yet.\n",
      "  warnings.warn(\n",
      "/opt/anaconda3/envs/spy/lib/python3.13/site-packages/sklearn/neural_network/_multilayer_perceptron.py:691: ConvergenceWarning: Stochastic Optimizer: Maximum iterations (1000) reached and the optimization hasn't converged yet.\n",
      "  warnings.warn(\n",
      "/opt/anaconda3/envs/spy/lib/python3.13/site-packages/sklearn/neural_network/_multilayer_perceptron.py:691: ConvergenceWarning: Stochastic Optimizer: Maximum iterations (1000) reached and the optimization hasn't converged yet.\n",
      "  warnings.warn(\n",
      "/opt/anaconda3/envs/spy/lib/python3.13/site-packages/sklearn/neural_network/_multilayer_perceptron.py:691: ConvergenceWarning: Stochastic Optimizer: Maximum iterations (1000) reached and the optimization hasn't converged yet.\n",
      "  warnings.warn(\n",
      "/opt/anaconda3/envs/spy/lib/python3.13/site-packages/sklearn/neural_network/_multilayer_perceptron.py:691: ConvergenceWarning: Stochastic Optimizer: Maximum iterations (1000) reached and the optimization hasn't converged yet.\n",
      "  warnings.warn(\n",
      "/opt/anaconda3/envs/spy/lib/python3.13/site-packages/sklearn/neural_network/_multilayer_perceptron.py:691: ConvergenceWarning: Stochastic Optimizer: Maximum iterations (1000) reached and the optimization hasn't converged yet.\n",
      "  warnings.warn(\n",
      "/opt/anaconda3/envs/spy/lib/python3.13/site-packages/sklearn/neural_network/_multilayer_perceptron.py:691: ConvergenceWarning: Stochastic Optimizer: Maximum iterations (1000) reached and the optimization hasn't converged yet.\n",
      "  warnings.warn(\n",
      "/opt/anaconda3/envs/spy/lib/python3.13/site-packages/sklearn/neural_network/_multilayer_perceptron.py:691: ConvergenceWarning: Stochastic Optimizer: Maximum iterations (1000) reached and the optimization hasn't converged yet.\n",
      "  warnings.warn(\n",
      "/opt/anaconda3/envs/spy/lib/python3.13/site-packages/sklearn/neural_network/_multilayer_perceptron.py:691: ConvergenceWarning: Stochastic Optimizer: Maximum iterations (1000) reached and the optimization hasn't converged yet.\n",
      "  warnings.warn(\n",
      "/opt/anaconda3/envs/spy/lib/python3.13/site-packages/sklearn/neural_network/_multilayer_perceptron.py:691: ConvergenceWarning: Stochastic Optimizer: Maximum iterations (1000) reached and the optimization hasn't converged yet.\n",
      "  warnings.warn(\n",
      "/opt/anaconda3/envs/spy/lib/python3.13/site-packages/sklearn/neural_network/_multilayer_perceptron.py:691: ConvergenceWarning: Stochastic Optimizer: Maximum iterations (1000) reached and the optimization hasn't converged yet.\n",
      "  warnings.warn(\n",
      "/opt/anaconda3/envs/spy/lib/python3.13/site-packages/sklearn/neural_network/_multilayer_perceptron.py:691: ConvergenceWarning: Stochastic Optimizer: Maximum iterations (1000) reached and the optimization hasn't converged yet.\n",
      "  warnings.warn(\n",
      "/opt/anaconda3/envs/spy/lib/python3.13/site-packages/sklearn/neural_network/_multilayer_perceptron.py:691: ConvergenceWarning: Stochastic Optimizer: Maximum iterations (1000) reached and the optimization hasn't converged yet.\n",
      "  warnings.warn(\n",
      "/opt/anaconda3/envs/spy/lib/python3.13/site-packages/sklearn/neural_network/_multilayer_perceptron.py:691: ConvergenceWarning: Stochastic Optimizer: Maximum iterations (1000) reached and the optimization hasn't converged yet.\n",
      "  warnings.warn(\n",
      "/opt/anaconda3/envs/spy/lib/python3.13/site-packages/sklearn/neural_network/_multilayer_perceptron.py:691: ConvergenceWarning: Stochastic Optimizer: Maximum iterations (1000) reached and the optimization hasn't converged yet.\n",
      "  warnings.warn(\n",
      "/opt/anaconda3/envs/spy/lib/python3.13/site-packages/sklearn/neural_network/_multilayer_perceptron.py:691: ConvergenceWarning: Stochastic Optimizer: Maximum iterations (1000) reached and the optimization hasn't converged yet.\n",
      "  warnings.warn(\n",
      "/opt/anaconda3/envs/spy/lib/python3.13/site-packages/sklearn/neural_network/_multilayer_perceptron.py:691: ConvergenceWarning: Stochastic Optimizer: Maximum iterations (1000) reached and the optimization hasn't converged yet.\n",
      "  warnings.warn(\n",
      "/opt/anaconda3/envs/spy/lib/python3.13/site-packages/sklearn/neural_network/_multilayer_perceptron.py:691: ConvergenceWarning: Stochastic Optimizer: Maximum iterations (1000) reached and the optimization hasn't converged yet.\n",
      "  warnings.warn(\n",
      "/opt/anaconda3/envs/spy/lib/python3.13/site-packages/sklearn/neural_network/_multilayer_perceptron.py:691: ConvergenceWarning: Stochastic Optimizer: Maximum iterations (1000) reached and the optimization hasn't converged yet.\n",
      "  warnings.warn(\n",
      "/opt/anaconda3/envs/spy/lib/python3.13/site-packages/sklearn/neural_network/_multilayer_perceptron.py:691: ConvergenceWarning: Stochastic Optimizer: Maximum iterations (1000) reached and the optimization hasn't converged yet.\n",
      "  warnings.warn(\n",
      "/opt/anaconda3/envs/spy/lib/python3.13/site-packages/sklearn/neural_network/_multilayer_perceptron.py:691: ConvergenceWarning: Stochastic Optimizer: Maximum iterations (1000) reached and the optimization hasn't converged yet.\n",
      "  warnings.warn(\n",
      "/opt/anaconda3/envs/spy/lib/python3.13/site-packages/sklearn/neural_network/_multilayer_perceptron.py:691: ConvergenceWarning: Stochastic Optimizer: Maximum iterations (1000) reached and the optimization hasn't converged yet.\n",
      "  warnings.warn(\n",
      "/opt/anaconda3/envs/spy/lib/python3.13/site-packages/sklearn/neural_network/_multilayer_perceptron.py:691: ConvergenceWarning: Stochastic Optimizer: Maximum iterations (1000) reached and the optimization hasn't converged yet.\n",
      "  warnings.warn(\n",
      "/opt/anaconda3/envs/spy/lib/python3.13/site-packages/sklearn/neural_network/_multilayer_perceptron.py:691: ConvergenceWarning: Stochastic Optimizer: Maximum iterations (1000) reached and the optimization hasn't converged yet.\n",
      "  warnings.warn(\n",
      "/opt/anaconda3/envs/spy/lib/python3.13/site-packages/sklearn/neural_network/_multilayer_perceptron.py:691: ConvergenceWarning: Stochastic Optimizer: Maximum iterations (1000) reached and the optimization hasn't converged yet.\n",
      "  warnings.warn(\n",
      "/opt/anaconda3/envs/spy/lib/python3.13/site-packages/sklearn/neural_network/_multilayer_perceptron.py:691: ConvergenceWarning: Stochastic Optimizer: Maximum iterations (1000) reached and the optimization hasn't converged yet.\n",
      "  warnings.warn(\n",
      "/opt/anaconda3/envs/spy/lib/python3.13/site-packages/sklearn/neural_network/_multilayer_perceptron.py:691: ConvergenceWarning: Stochastic Optimizer: Maximum iterations (1000) reached and the optimization hasn't converged yet.\n",
      "  warnings.warn(\n",
      "/opt/anaconda3/envs/spy/lib/python3.13/site-packages/sklearn/neural_network/_multilayer_perceptron.py:691: ConvergenceWarning: Stochastic Optimizer: Maximum iterations (1000) reached and the optimization hasn't converged yet.\n",
      "  warnings.warn(\n",
      "/opt/anaconda3/envs/spy/lib/python3.13/site-packages/sklearn/neural_network/_multilayer_perceptron.py:691: ConvergenceWarning: Stochastic Optimizer: Maximum iterations (1000) reached and the optimization hasn't converged yet.\n",
      "  warnings.warn(\n",
      "/opt/anaconda3/envs/spy/lib/python3.13/site-packages/sklearn/neural_network/_multilayer_perceptron.py:691: ConvergenceWarning: Stochastic Optimizer: Maximum iterations (1000) reached and the optimization hasn't converged yet.\n",
      "  warnings.warn(\n",
      "/opt/anaconda3/envs/spy/lib/python3.13/site-packages/sklearn/neural_network/_multilayer_perceptron.py:691: ConvergenceWarning: Stochastic Optimizer: Maximum iterations (1000) reached and the optimization hasn't converged yet.\n",
      "  warnings.warn(\n",
      "/opt/anaconda3/envs/spy/lib/python3.13/site-packages/sklearn/neural_network/_multilayer_perceptron.py:691: ConvergenceWarning: Stochastic Optimizer: Maximum iterations (1000) reached and the optimization hasn't converged yet.\n",
      "  warnings.warn(\n",
      "/opt/anaconda3/envs/spy/lib/python3.13/site-packages/sklearn/neural_network/_multilayer_perceptron.py:691: ConvergenceWarning: Stochastic Optimizer: Maximum iterations (1000) reached and the optimization hasn't converged yet.\n",
      "  warnings.warn(\n",
      "/opt/anaconda3/envs/spy/lib/python3.13/site-packages/sklearn/neural_network/_multilayer_perceptron.py:691: ConvergenceWarning: Stochastic Optimizer: Maximum iterations (1000) reached and the optimization hasn't converged yet.\n",
      "  warnings.warn(\n",
      "/opt/anaconda3/envs/spy/lib/python3.13/site-packages/sklearn/neural_network/_multilayer_perceptron.py:691: ConvergenceWarning: Stochastic Optimizer: Maximum iterations (1000) reached and the optimization hasn't converged yet.\n",
      "  warnings.warn(\n",
      "/opt/anaconda3/envs/spy/lib/python3.13/site-packages/sklearn/metrics/_classification.py:1565: UndefinedMetricWarning: Precision is ill-defined and being set to 0.0 in labels with no predicted samples. Use `zero_division` parameter to control this behavior.\n",
      "  _warn_prf(average, modifier, f\"{metric.capitalize()} is\", len(result))\n",
      "/opt/anaconda3/envs/spy/lib/python3.13/site-packages/sklearn/metrics/_classification.py:1565: UndefinedMetricWarning: Precision is ill-defined and being set to 0.0 in labels with no predicted samples. Use `zero_division` parameter to control this behavior.\n",
      "  _warn_prf(average, modifier, f\"{metric.capitalize()} is\", len(result))\n",
      "/opt/anaconda3/envs/spy/lib/python3.13/site-packages/sklearn/metrics/_classification.py:1565: UndefinedMetricWarning: Precision is ill-defined and being set to 0.0 in labels with no predicted samples. Use `zero_division` parameter to control this behavior.\n",
      "  _warn_prf(average, modifier, f\"{metric.capitalize()} is\", len(result))\n",
      "/opt/anaconda3/envs/spy/lib/python3.13/site-packages/sklearn/model_selection/_split.py:805: UserWarning: The least populated class in y has only 1 members, which is less than n_splits=5.\n",
      "  warnings.warn(\n"
     ]
    },
    {
     "name": "stdout",
     "output_type": "stream",
     "text": [
      "\n",
      "✅ Best Parameters for MLP Classifier:\n",
      "{'alpha': 0.001, 'hidden_layer_sizes': (100,), 'learning_rate_init': 0.01, 'solver': 'sgd'}\n",
      "\n",
      "📊 Evaluation for MLP Classifier:\n",
      "Accuracy: 0.8501818181818181\n",
      "Classification Report:\n",
      "               precision    recall  f1-score   support\n",
      "\n",
      "           0       0.47      0.67      0.55        12\n",
      "           1       0.88      0.96      0.92      1068\n",
      "           2       0.65      0.58      0.62        48\n",
      "           3       0.33      0.17      0.23        23\n",
      "           5       1.00      0.33      0.50         3\n",
      "           6       0.48      0.25      0.33        40\n",
      "           7       0.00      0.00      0.00        20\n",
      "           8       0.50      0.14      0.22         7\n",
      "           9       0.88      0.91      0.89        92\n",
      "          10       0.57      0.19      0.29        62\n",
      "\n",
      "    accuracy                           0.85      1375\n",
      "   macro avg       0.58      0.42      0.45      1375\n",
      "weighted avg       0.82      0.85      0.83      1375\n",
      "\n",
      "\n",
      "🔧 Tuning & Training: Random Forest\n",
      "Fitting 5 folds for each of 24 candidates, totalling 120 fits\n",
      "\n",
      "✅ Best Parameters for Random Forest:\n",
      "{'max_depth': 10, 'min_samples_leaf': 2, 'min_samples_split': 5, 'n_estimators': 100}\n",
      "\n",
      "📊 Evaluation for Random Forest:\n",
      "Accuracy: 0.8254545454545454\n",
      "Classification Report:\n",
      "               precision    recall  f1-score   support\n",
      "\n",
      "           0       0.47      0.67      0.55        12\n",
      "           1       0.86      0.94      0.90      1068\n",
      "           2       0.39      0.60      0.47        48\n",
      "           3       0.50      0.13      0.21        23\n",
      "           5       0.00      0.00      0.00         3\n",
      "           6       0.46      0.15      0.23        40\n",
      "           7       0.00      0.00      0.00        20\n",
      "           8       0.00      0.00      0.00         7\n",
      "           9       0.87      0.86      0.86        92\n",
      "          10       0.43      0.05      0.09        62\n",
      "\n",
      "    accuracy                           0.83      1375\n",
      "   macro avg       0.40      0.34      0.33      1375\n",
      "weighted avg       0.79      0.83      0.79      1375\n",
      "\n"
     ]
    },
    {
     "name": "stderr",
     "output_type": "stream",
     "text": [
      "/opt/anaconda3/envs/spy/lib/python3.13/site-packages/sklearn/metrics/_classification.py:1565: UndefinedMetricWarning: Precision is ill-defined and being set to 0.0 in labels with no predicted samples. Use `zero_division` parameter to control this behavior.\n",
      "  _warn_prf(average, modifier, f\"{metric.capitalize()} is\", len(result))\n",
      "/opt/anaconda3/envs/spy/lib/python3.13/site-packages/sklearn/metrics/_classification.py:1565: UndefinedMetricWarning: Precision is ill-defined and being set to 0.0 in labels with no predicted samples. Use `zero_division` parameter to control this behavior.\n",
      "  _warn_prf(average, modifier, f\"{metric.capitalize()} is\", len(result))\n",
      "/opt/anaconda3/envs/spy/lib/python3.13/site-packages/sklearn/metrics/_classification.py:1565: UndefinedMetricWarning: Precision is ill-defined and being set to 0.0 in labels with no predicted samples. Use `zero_division` parameter to control this behavior.\n",
      "  _warn_prf(average, modifier, f\"{metric.capitalize()} is\", len(result))\n"
     ]
    }
   ],
   "source": [
    "for name in models:\n",
    "    train_and_evaluate(\n",
    "        name,\n",
    "        models[name],\n",
    "        param_grids[name],\n",
    "        X_train_llm,\n",
    "        y_train,\n",
    "        X_test_llm,\n",
    "        y_test\n",
    "    )"
   ]
  },
  {
   "cell_type": "code",
   "execution_count": 27,
   "id": "356323aa-ead2-438c-8855-2385fad2bc95",
   "metadata": {},
   "outputs": [
    {
     "name": "stdout",
     "output_type": "stream",
     "text": [
      "\n",
      "🔧 Tuning & Training: Logistic Regression\n",
      "Fitting 5 folds for each of 6 candidates, totalling 30 fits\n"
     ]
    },
    {
     "name": "stderr",
     "output_type": "stream",
     "text": [
      "/opt/anaconda3/envs/spy/lib/python3.13/site-packages/sklearn/model_selection/_split.py:805: UserWarning: The least populated class in y has only 1 members, which is less than n_splits=5.\n",
      "  warnings.warn(\n"
     ]
    },
    {
     "name": "stdout",
     "output_type": "stream",
     "text": [
      "\n",
      "✅ Best Parameters for Logistic Regression:\n",
      "{'C': 1.0, 'max_iter': 1000, 'penalty': 'l1', 'solver': 'saga'}\n",
      "\n",
      "📊 Evaluation for Logistic Regression:\n",
      "Accuracy: 0.8618181818181818\n",
      "Classification Report:\n",
      "               precision    recall  f1-score   support\n",
      "\n",
      "           0       1.00      0.75      0.86        12\n",
      "           1       0.86      0.98      0.92      1068\n",
      "           2       0.77      0.48      0.59        48\n",
      "           3       0.00      0.00      0.00        23\n",
      "           5       0.00      0.00      0.00         3\n",
      "           6       0.88      0.17      0.29        40\n",
      "           7       0.00      0.00      0.00        20\n",
      "           8       0.00      0.00      0.00         7\n",
      "           9       0.89      0.90      0.90        92\n",
      "          10       0.75      0.24      0.37        62\n",
      "\n",
      "    accuracy                           0.86      1375\n",
      "   macro avg       0.51      0.35      0.39      1375\n",
      "weighted avg       0.83      0.86      0.83      1375\n",
      "\n",
      "\n",
      "🔧 Tuning & Training: SGD Classifier\n",
      "Fitting 5 folds for each of 48 candidates, totalling 240 fits\n"
     ]
    },
    {
     "name": "stderr",
     "output_type": "stream",
     "text": [
      "/opt/anaconda3/envs/spy/lib/python3.13/site-packages/sklearn/metrics/_classification.py:1565: UndefinedMetricWarning: Precision is ill-defined and being set to 0.0 in labels with no predicted samples. Use `zero_division` parameter to control this behavior.\n",
      "  _warn_prf(average, modifier, f\"{metric.capitalize()} is\", len(result))\n",
      "/opt/anaconda3/envs/spy/lib/python3.13/site-packages/sklearn/metrics/_classification.py:1565: UndefinedMetricWarning: Precision is ill-defined and being set to 0.0 in labels with no predicted samples. Use `zero_division` parameter to control this behavior.\n",
      "  _warn_prf(average, modifier, f\"{metric.capitalize()} is\", len(result))\n",
      "/opt/anaconda3/envs/spy/lib/python3.13/site-packages/sklearn/metrics/_classification.py:1565: UndefinedMetricWarning: Precision is ill-defined and being set to 0.0 in labels with no predicted samples. Use `zero_division` parameter to control this behavior.\n",
      "  _warn_prf(average, modifier, f\"{metric.capitalize()} is\", len(result))\n",
      "/opt/anaconda3/envs/spy/lib/python3.13/site-packages/sklearn/model_selection/_split.py:805: UserWarning: The least populated class in y has only 1 members, which is less than n_splits=5.\n",
      "  warnings.warn(\n"
     ]
    },
    {
     "name": "stdout",
     "output_type": "stream",
     "text": [
      "\n",
      "✅ Best Parameters for SGD Classifier:\n",
      "{'alpha': 0.0001, 'eta0': 0.01, 'learning_rate': 'optimal', 'loss': 'hinge', 'penalty': 'l1'}\n",
      "\n",
      "📊 Evaluation for SGD Classifier:\n",
      "Accuracy: 0.88\n",
      "Classification Report:\n",
      "               precision    recall  f1-score   support\n",
      "\n",
      "           0       1.00      1.00      1.00        12\n",
      "           1       0.88      0.98      0.93      1068\n",
      "           2       0.80      0.73      0.76        48\n",
      "           3       0.00      0.00      0.00        23\n",
      "           5       0.00      0.00      0.00         3\n",
      "           6       0.71      0.12      0.21        40\n",
      "           7       0.00      0.00      0.00        20\n",
      "           8       0.00      0.00      0.00         7\n",
      "           9       0.91      0.96      0.93        92\n",
      "          10       0.81      0.34      0.48        62\n",
      "\n",
      "    accuracy                           0.88      1375\n",
      "   macro avg       0.51      0.41      0.43      1375\n",
      "weighted avg       0.84      0.88      0.85      1375\n",
      "\n",
      "\n",
      "🔧 Tuning & Training: MLP Classifier\n",
      "Fitting 5 folds for each of 8 candidates, totalling 40 fits\n"
     ]
    },
    {
     "name": "stderr",
     "output_type": "stream",
     "text": [
      "/opt/anaconda3/envs/spy/lib/python3.13/site-packages/sklearn/metrics/_classification.py:1565: UndefinedMetricWarning: Precision is ill-defined and being set to 0.0 in labels with no predicted samples. Use `zero_division` parameter to control this behavior.\n",
      "  _warn_prf(average, modifier, f\"{metric.capitalize()} is\", len(result))\n",
      "/opt/anaconda3/envs/spy/lib/python3.13/site-packages/sklearn/metrics/_classification.py:1565: UndefinedMetricWarning: Precision is ill-defined and being set to 0.0 in labels with no predicted samples. Use `zero_division` parameter to control this behavior.\n",
      "  _warn_prf(average, modifier, f\"{metric.capitalize()} is\", len(result))\n",
      "/opt/anaconda3/envs/spy/lib/python3.13/site-packages/sklearn/metrics/_classification.py:1565: UndefinedMetricWarning: Precision is ill-defined and being set to 0.0 in labels with no predicted samples. Use `zero_division` parameter to control this behavior.\n",
      "  _warn_prf(average, modifier, f\"{metric.capitalize()} is\", len(result))\n",
      "/opt/anaconda3/envs/spy/lib/python3.13/site-packages/sklearn/model_selection/_split.py:805: UserWarning: The least populated class in y has only 1 members, which is less than n_splits=5.\n",
      "  warnings.warn(\n",
      "/opt/anaconda3/envs/spy/lib/python3.13/site-packages/sklearn/neural_network/_multilayer_perceptron.py:691: ConvergenceWarning: Stochastic Optimizer: Maximum iterations (1000) reached and the optimization hasn't converged yet.\n",
      "  warnings.warn(\n",
      "/opt/anaconda3/envs/spy/lib/python3.13/site-packages/sklearn/neural_network/_multilayer_perceptron.py:691: ConvergenceWarning: Stochastic Optimizer: Maximum iterations (1000) reached and the optimization hasn't converged yet.\n",
      "  warnings.warn(\n",
      "/opt/anaconda3/envs/spy/lib/python3.13/site-packages/sklearn/neural_network/_multilayer_perceptron.py:691: ConvergenceWarning: Stochastic Optimizer: Maximum iterations (1000) reached and the optimization hasn't converged yet.\n",
      "  warnings.warn(\n",
      "/opt/anaconda3/envs/spy/lib/python3.13/site-packages/sklearn/neural_network/_multilayer_perceptron.py:691: ConvergenceWarning: Stochastic Optimizer: Maximum iterations (1000) reached and the optimization hasn't converged yet.\n",
      "  warnings.warn(\n",
      "/opt/anaconda3/envs/spy/lib/python3.13/site-packages/sklearn/neural_network/_multilayer_perceptron.py:691: ConvergenceWarning: Stochastic Optimizer: Maximum iterations (1000) reached and the optimization hasn't converged yet.\n",
      "  warnings.warn(\n",
      "/opt/anaconda3/envs/spy/lib/python3.13/site-packages/sklearn/neural_network/_multilayer_perceptron.py:691: ConvergenceWarning: Stochastic Optimizer: Maximum iterations (1000) reached and the optimization hasn't converged yet.\n",
      "  warnings.warn(\n",
      "/opt/anaconda3/envs/spy/lib/python3.13/site-packages/sklearn/neural_network/_multilayer_perceptron.py:691: ConvergenceWarning: Stochastic Optimizer: Maximum iterations (1000) reached and the optimization hasn't converged yet.\n",
      "  warnings.warn(\n",
      "/opt/anaconda3/envs/spy/lib/python3.13/site-packages/sklearn/neural_network/_multilayer_perceptron.py:691: ConvergenceWarning: Stochastic Optimizer: Maximum iterations (1000) reached and the optimization hasn't converged yet.\n",
      "  warnings.warn(\n",
      "/opt/anaconda3/envs/spy/lib/python3.13/site-packages/sklearn/neural_network/_multilayer_perceptron.py:691: ConvergenceWarning: Stochastic Optimizer: Maximum iterations (1000) reached and the optimization hasn't converged yet.\n",
      "  warnings.warn(\n",
      "/opt/anaconda3/envs/spy/lib/python3.13/site-packages/sklearn/neural_network/_multilayer_perceptron.py:691: ConvergenceWarning: Stochastic Optimizer: Maximum iterations (1000) reached and the optimization hasn't converged yet.\n",
      "  warnings.warn(\n",
      "/opt/anaconda3/envs/spy/lib/python3.13/site-packages/sklearn/neural_network/_multilayer_perceptron.py:691: ConvergenceWarning: Stochastic Optimizer: Maximum iterations (1000) reached and the optimization hasn't converged yet.\n",
      "  warnings.warn(\n",
      "/opt/anaconda3/envs/spy/lib/python3.13/site-packages/sklearn/neural_network/_multilayer_perceptron.py:691: ConvergenceWarning: Stochastic Optimizer: Maximum iterations (1000) reached and the optimization hasn't converged yet.\n",
      "  warnings.warn(\n",
      "/opt/anaconda3/envs/spy/lib/python3.13/site-packages/sklearn/neural_network/_multilayer_perceptron.py:691: ConvergenceWarning: Stochastic Optimizer: Maximum iterations (1000) reached and the optimization hasn't converged yet.\n",
      "  warnings.warn(\n",
      "/opt/anaconda3/envs/spy/lib/python3.13/site-packages/sklearn/neural_network/_multilayer_perceptron.py:691: ConvergenceWarning: Stochastic Optimizer: Maximum iterations (1000) reached and the optimization hasn't converged yet.\n",
      "  warnings.warn(\n",
      "/opt/anaconda3/envs/spy/lib/python3.13/site-packages/sklearn/neural_network/_multilayer_perceptron.py:691: ConvergenceWarning: Stochastic Optimizer: Maximum iterations (1000) reached and the optimization hasn't converged yet.\n",
      "  warnings.warn(\n",
      "/opt/anaconda3/envs/spy/lib/python3.13/site-packages/sklearn/neural_network/_multilayer_perceptron.py:691: ConvergenceWarning: Stochastic Optimizer: Maximum iterations (1000) reached and the optimization hasn't converged yet.\n",
      "  warnings.warn(\n",
      "/opt/anaconda3/envs/spy/lib/python3.13/site-packages/sklearn/neural_network/_multilayer_perceptron.py:691: ConvergenceWarning: Stochastic Optimizer: Maximum iterations (1000) reached and the optimization hasn't converged yet.\n",
      "  warnings.warn(\n",
      "/opt/anaconda3/envs/spy/lib/python3.13/site-packages/sklearn/neural_network/_multilayer_perceptron.py:691: ConvergenceWarning: Stochastic Optimizer: Maximum iterations (1000) reached and the optimization hasn't converged yet.\n",
      "  warnings.warn(\n",
      "/opt/anaconda3/envs/spy/lib/python3.13/site-packages/sklearn/neural_network/_multilayer_perceptron.py:691: ConvergenceWarning: Stochastic Optimizer: Maximum iterations (1000) reached and the optimization hasn't converged yet.\n",
      "  warnings.warn(\n",
      "/opt/anaconda3/envs/spy/lib/python3.13/site-packages/sklearn/neural_network/_multilayer_perceptron.py:691: ConvergenceWarning: Stochastic Optimizer: Maximum iterations (1000) reached and the optimization hasn't converged yet.\n",
      "  warnings.warn(\n",
      "/opt/anaconda3/envs/spy/lib/python3.13/site-packages/sklearn/neural_network/_multilayer_perceptron.py:691: ConvergenceWarning: Stochastic Optimizer: Maximum iterations (1000) reached and the optimization hasn't converged yet.\n",
      "  warnings.warn(\n",
      "/opt/anaconda3/envs/spy/lib/python3.13/site-packages/sklearn/neural_network/_multilayer_perceptron.py:691: ConvergenceWarning: Stochastic Optimizer: Maximum iterations (1000) reached and the optimization hasn't converged yet.\n",
      "  warnings.warn(\n",
      "/opt/anaconda3/envs/spy/lib/python3.13/site-packages/sklearn/neural_network/_multilayer_perceptron.py:691: ConvergenceWarning: Stochastic Optimizer: Maximum iterations (1000) reached and the optimization hasn't converged yet.\n",
      "  warnings.warn(\n",
      "/opt/anaconda3/envs/spy/lib/python3.13/site-packages/sklearn/neural_network/_multilayer_perceptron.py:691: ConvergenceWarning: Stochastic Optimizer: Maximum iterations (1000) reached and the optimization hasn't converged yet.\n",
      "  warnings.warn(\n",
      "/opt/anaconda3/envs/spy/lib/python3.13/site-packages/sklearn/neural_network/_multilayer_perceptron.py:691: ConvergenceWarning: Stochastic Optimizer: Maximum iterations (1000) reached and the optimization hasn't converged yet.\n",
      "  warnings.warn(\n",
      "/opt/anaconda3/envs/spy/lib/python3.13/site-packages/sklearn/neural_network/_multilayer_perceptron.py:691: ConvergenceWarning: Stochastic Optimizer: Maximum iterations (1000) reached and the optimization hasn't converged yet.\n",
      "  warnings.warn(\n",
      "/opt/anaconda3/envs/spy/lib/python3.13/site-packages/sklearn/neural_network/_multilayer_perceptron.py:691: ConvergenceWarning: Stochastic Optimizer: Maximum iterations (1000) reached and the optimization hasn't converged yet.\n",
      "  warnings.warn(\n",
      "/opt/anaconda3/envs/spy/lib/python3.13/site-packages/sklearn/neural_network/_multilayer_perceptron.py:691: ConvergenceWarning: Stochastic Optimizer: Maximum iterations (1000) reached and the optimization hasn't converged yet.\n",
      "  warnings.warn(\n",
      "/opt/anaconda3/envs/spy/lib/python3.13/site-packages/sklearn/neural_network/_multilayer_perceptron.py:691: ConvergenceWarning: Stochastic Optimizer: Maximum iterations (1000) reached and the optimization hasn't converged yet.\n",
      "  warnings.warn(\n",
      "/opt/anaconda3/envs/spy/lib/python3.13/site-packages/sklearn/neural_network/_multilayer_perceptron.py:691: ConvergenceWarning: Stochastic Optimizer: Maximum iterations (1000) reached and the optimization hasn't converged yet.\n",
      "  warnings.warn(\n",
      "/opt/anaconda3/envs/spy/lib/python3.13/site-packages/sklearn/neural_network/_multilayer_perceptron.py:691: ConvergenceWarning: Stochastic Optimizer: Maximum iterations (1000) reached and the optimization hasn't converged yet.\n",
      "  warnings.warn(\n",
      "/opt/anaconda3/envs/spy/lib/python3.13/site-packages/sklearn/neural_network/_multilayer_perceptron.py:691: ConvergenceWarning: Stochastic Optimizer: Maximum iterations (1000) reached and the optimization hasn't converged yet.\n",
      "  warnings.warn(\n",
      "/opt/anaconda3/envs/spy/lib/python3.13/site-packages/sklearn/neural_network/_multilayer_perceptron.py:691: ConvergenceWarning: Stochastic Optimizer: Maximum iterations (1000) reached and the optimization hasn't converged yet.\n",
      "  warnings.warn(\n",
      "/opt/anaconda3/envs/spy/lib/python3.13/site-packages/sklearn/neural_network/_multilayer_perceptron.py:691: ConvergenceWarning: Stochastic Optimizer: Maximum iterations (1000) reached and the optimization hasn't converged yet.\n",
      "  warnings.warn(\n",
      "/opt/anaconda3/envs/spy/lib/python3.13/site-packages/sklearn/neural_network/_multilayer_perceptron.py:691: ConvergenceWarning: Stochastic Optimizer: Maximum iterations (1000) reached and the optimization hasn't converged yet.\n",
      "  warnings.warn(\n",
      "/opt/anaconda3/envs/spy/lib/python3.13/site-packages/sklearn/neural_network/_multilayer_perceptron.py:691: ConvergenceWarning: Stochastic Optimizer: Maximum iterations (1000) reached and the optimization hasn't converged yet.\n",
      "  warnings.warn(\n",
      "/opt/anaconda3/envs/spy/lib/python3.13/site-packages/sklearn/neural_network/_multilayer_perceptron.py:691: ConvergenceWarning: Stochastic Optimizer: Maximum iterations (1000) reached and the optimization hasn't converged yet.\n",
      "  warnings.warn(\n",
      "/opt/anaconda3/envs/spy/lib/python3.13/site-packages/sklearn/neural_network/_multilayer_perceptron.py:691: ConvergenceWarning: Stochastic Optimizer: Maximum iterations (1000) reached and the optimization hasn't converged yet.\n",
      "  warnings.warn(\n",
      "/opt/anaconda3/envs/spy/lib/python3.13/site-packages/sklearn/neural_network/_multilayer_perceptron.py:691: ConvergenceWarning: Stochastic Optimizer: Maximum iterations (1000) reached and the optimization hasn't converged yet.\n",
      "  warnings.warn(\n",
      "/opt/anaconda3/envs/spy/lib/python3.13/site-packages/sklearn/neural_network/_multilayer_perceptron.py:691: ConvergenceWarning: Stochastic Optimizer: Maximum iterations (1000) reached and the optimization hasn't converged yet.\n",
      "  warnings.warn(\n",
      "/opt/anaconda3/envs/spy/lib/python3.13/site-packages/sklearn/neural_network/_multilayer_perceptron.py:691: ConvergenceWarning: Stochastic Optimizer: Maximum iterations (1000) reached and the optimization hasn't converged yet.\n",
      "  warnings.warn(\n",
      "/opt/anaconda3/envs/spy/lib/python3.13/site-packages/sklearn/metrics/_classification.py:1565: UndefinedMetricWarning: Precision is ill-defined and being set to 0.0 in labels with no predicted samples. Use `zero_division` parameter to control this behavior.\n",
      "  _warn_prf(average, modifier, f\"{metric.capitalize()} is\", len(result))\n",
      "/opt/anaconda3/envs/spy/lib/python3.13/site-packages/sklearn/metrics/_classification.py:1565: UndefinedMetricWarning: Precision is ill-defined and being set to 0.0 in labels with no predicted samples. Use `zero_division` parameter to control this behavior.\n",
      "  _warn_prf(average, modifier, f\"{metric.capitalize()} is\", len(result))\n",
      "/opt/anaconda3/envs/spy/lib/python3.13/site-packages/sklearn/metrics/_classification.py:1565: UndefinedMetricWarning: Precision is ill-defined and being set to 0.0 in labels with no predicted samples. Use `zero_division` parameter to control this behavior.\n",
      "  _warn_prf(average, modifier, f\"{metric.capitalize()} is\", len(result))\n",
      "/opt/anaconda3/envs/spy/lib/python3.13/site-packages/sklearn/model_selection/_split.py:805: UserWarning: The least populated class in y has only 1 members, which is less than n_splits=5.\n",
      "  warnings.warn(\n"
     ]
    },
    {
     "name": "stdout",
     "output_type": "stream",
     "text": [
      "\n",
      "✅ Best Parameters for MLP Classifier:\n",
      "{'alpha': 0.001, 'hidden_layer_sizes': (100,), 'learning_rate_init': 0.01, 'solver': 'sgd'}\n",
      "\n",
      "📊 Evaluation for MLP Classifier:\n",
      "Accuracy: 0.8545454545454545\n",
      "Classification Report:\n",
      "               precision    recall  f1-score   support\n",
      "\n",
      "           0       1.00      1.00      1.00        12\n",
      "           1       0.90      0.94      0.92      1068\n",
      "           2       0.69      0.71      0.70        48\n",
      "           3       0.28      0.22      0.24        23\n",
      "           5       0.00      0.00      0.00         3\n",
      "           6       0.61      0.42      0.50        40\n",
      "           7       0.50      0.05      0.09        20\n",
      "           8       0.17      0.14      0.15         7\n",
      "           9       0.90      0.92      0.91        92\n",
      "          10       0.33      0.27      0.30        62\n",
      "\n",
      "    accuracy                           0.85      1375\n",
      "   macro avg       0.54      0.47      0.48      1375\n",
      "weighted avg       0.84      0.85      0.84      1375\n",
      "\n",
      "\n",
      "🔧 Tuning & Training: Random Forest\n",
      "Fitting 5 folds for each of 24 candidates, totalling 120 fits\n",
      "\n",
      "✅ Best Parameters for Random Forest:\n",
      "{'max_depth': None, 'min_samples_leaf': 1, 'min_samples_split': 5, 'n_estimators': 200}\n",
      "\n",
      "📊 Evaluation for Random Forest:\n",
      "Accuracy: 0.8581818181818182\n",
      "Classification Report:\n",
      "               precision    recall  f1-score   support\n",
      "\n",
      "           0       0.79      0.92      0.85        12\n",
      "           1       0.88      0.96      0.92      1068\n",
      "           2       0.65      0.73      0.69        48\n",
      "           3       0.00      0.00      0.00        23\n",
      "           5       0.00      0.00      0.00         3\n",
      "           6       0.55      0.15      0.24        40\n",
      "           7       1.00      0.10      0.18        20\n",
      "           8       0.00      0.00      0.00         7\n",
      "           9       0.85      0.96      0.90        92\n",
      "          10       0.53      0.13      0.21        62\n",
      "\n",
      "    accuracy                           0.86      1375\n",
      "   macro avg       0.52      0.39      0.40      1375\n",
      "weighted avg       0.82      0.86      0.83      1375\n",
      "\n"
     ]
    },
    {
     "name": "stderr",
     "output_type": "stream",
     "text": [
      "/opt/anaconda3/envs/spy/lib/python3.13/site-packages/sklearn/metrics/_classification.py:1565: UndefinedMetricWarning: Precision is ill-defined and being set to 0.0 in labels with no predicted samples. Use `zero_division` parameter to control this behavior.\n",
      "  _warn_prf(average, modifier, f\"{metric.capitalize()} is\", len(result))\n",
      "/opt/anaconda3/envs/spy/lib/python3.13/site-packages/sklearn/metrics/_classification.py:1565: UndefinedMetricWarning: Precision is ill-defined and being set to 0.0 in labels with no predicted samples. Use `zero_division` parameter to control this behavior.\n",
      "  _warn_prf(average, modifier, f\"{metric.capitalize()} is\", len(result))\n",
      "/opt/anaconda3/envs/spy/lib/python3.13/site-packages/sklearn/metrics/_classification.py:1565: UndefinedMetricWarning: Precision is ill-defined and being set to 0.0 in labels with no predicted samples. Use `zero_division` parameter to control this behavior.\n",
      "  _warn_prf(average, modifier, f\"{metric.capitalize()} is\", len(result))\n"
     ]
    }
   ],
   "source": [
    "for name in models:\n",
    "    train_and_evaluate(\n",
    "        name,\n",
    "        models[name],\n",
    "        param_grids[name],\n",
    "        X_train_tfidf,\n",
    "        y_train,\n",
    "        X_test_tfidf,\n",
    "        y_test\n",
    "    )"
   ]
  },
  {
   "cell_type": "markdown",
   "id": "112b6229-8469-4f17-bae9-4122b05100f3",
   "metadata": {},
   "source": [
    "## ✅ Observations and Conclusion:\n",
    "- Classifiers struggled due to overlapping intents and possibly limited label diversity.\n",
    "- While sentence embeddings help extract semantic meaning, the classes (intent) may need hierarchical restructuring or benefit from fine-tuning.\n",
    "- Moderate accuracy due to semantic similarity between different intents."
   ]
  },
  {
   "cell_type": "code",
   "execution_count": null,
   "id": "bbcf8bcf-440c-44df-8bc3-eeeda672db31",
   "metadata": {},
   "outputs": [],
   "source": []
  }
 ],
 "metadata": {
  "kernelspec": {
   "display_name": "Python 3 (ipykernel)",
   "language": "python",
   "name": "python3"
  },
  "language_info": {
   "codemirror_mode": {
    "name": "ipython",
    "version": 3
   },
   "file_extension": ".py",
   "mimetype": "text/x-python",
   "name": "python",
   "nbconvert_exporter": "python",
   "pygments_lexer": "ipython3",
   "version": "3.13.2"
  }
 },
 "nbformat": 4,
 "nbformat_minor": 5
}
